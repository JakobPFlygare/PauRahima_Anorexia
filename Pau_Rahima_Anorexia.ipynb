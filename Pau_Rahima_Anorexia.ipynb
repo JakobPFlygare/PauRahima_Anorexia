{
 "cells": [
  {
   "cell_type": "code",
   "execution_count": 3,
   "id": "fe389032",
   "metadata": {},
   "outputs": [
    {
     "name": "stdout",
     "output_type": "stream",
     "text": [
      "[1] \"Hello Pau\"\n"
     ]
    }
   ],
   "source": [
    "#Testing the new environment\n",
    "print(\"Hello Pau\")"
   ]
  }
 ],
 "metadata": {
  "kernelspec": {
   "display_name": "R",
   "language": "R",
   "name": "ir"
  },
  "language_info": {
   "codemirror_mode": "r",
   "file_extension": ".r",
   "mimetype": "text/x-r-source",
   "name": "R",
   "pygments_lexer": "r",
   "version": "3.6.1"
  }
 },
 "nbformat": 4,
 "nbformat_minor": 5
}
